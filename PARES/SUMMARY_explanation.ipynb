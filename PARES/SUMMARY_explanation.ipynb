{
 "cells": [
  {
   "cell_type": "markdown",
   "metadata": {},
   "source": [
    "> ## Summary of what was done, and what we have"
   ]
  },
  {
   "cell_type": "markdown",
   "metadata": {},
   "source": [
    "<div class=\"alert alert-success\">\n",
    "\n",
    "> ## We hold thousands of complete files LOCALLY, each corresponding to one webpage. We will use a selection of the columns and clean and rearrange them to build a table\n",
    "\n",
    "</div>"
   ]
  },
  {
   "cell_type": "markdown",
   "metadata": {},
   "source": [
    "> ## List all the fields in one file as an example"
   ]
  },
  {
   "cell_type": "markdown",
   "metadata": {},
   "source": [
    "<div class=\"alert alert-success\">\n",
    "\n",
    "> ## There will be small variations between files but roughly, one file will hold the following information. This file has 48 variables, but not all of them contain information. Other files can have fewer variables. We add an extra variable at the start which is the URL where we collected the complete file.\n",
    "\n",
    "> **Note** The code below is not commented. If you want to read a cleaner presentation of the code visit the PARES folder at https://github.com/aodhanlutetiae/sp_archive\n",
    "\n",
    "</div>"
   ]
  },
  {
   "cell_type": "code",
   "execution_count": 44,
   "metadata": {},
   "outputs": [
    {
     "name": "stdout",
     "output_type": "stream",
     "text": [
      "http://pares.mcu.es/ParesBusquedas20/catalogo/description/10074730\n",
      "control:None\n",
      "recordid:ES.37274.CDMH/8.4.8.12//DNSD-SECRETARIA,FICHERO,1,A0000622\n",
      "otherrecordid:ES-CDMH-37274-10074730\n",
      "filedesc:None\n",
      "titlestmt:None\n",
      "titleproper:Ficha de Carmen Abad \n",
      "maintenancestatus:revised\n",
      "maintenanceagency:None\n",
      "agencycode:ES-37008-CDMH\n",
      "agencyname:CDMH\n",
      "maintenancehistory:None\n",
      "maintenanceevent:None\n",
      "eventtype:created\n",
      "eventdatetime:2021-04-01T21:56:13\n",
      "agenttype:machine\n",
      "agent:Generado automaticamente por el Portal de Archivos Españoles (PARES) con los datos de sus registros de autoridad.\n",
      "archdesc:None\n",
      "did:None\n",
      "unitid:ES.37274.CDMH/8.4.8.12//DNSD-SECRETARIA,FICHERO,1,A0000622\n",
      "unittitle:Ficha de Carmen Abad \n",
      "unitdatestructured:None\n",
      "daterange:None\n",
      "fromdate:1937\n",
      "todate:1977\n",
      "physloc:DNSD-SECRETARIA,FICHERO,1,A0000622\n",
      "langmaterial: \n",
      "languageset:None\n",
      "language:Español\n",
      "script:Latino\n",
      "repository:None\n",
      "name:None\n",
      "part:Centro Documental de la Memoria Histórica\n",
      "relations:None\n",
      "relation: \n",
      "relationentry:Represión política\n",
      "descriptivenote: \n",
      "p:Materia de\n",
      "controlaccess:  \n",
      "subject:None\n",
      "part:Represión política\n",
      "subject:None\n",
      "part:Dictadura de Franco, 1939-1975\n",
      "odd:None\n",
      "note: \n",
      "p:Esta ficha contiene la referencia al expediente o expedientes que contienen la información sobre la persona indicada.  \n",
      "p:Debido a la organización fonética del fichero, y a la coincidencia de nombre y apellidos, puede ocurrir que la persona que usted encuentre no coincida con la persona que busca.   \n",
      "p:Si decide solicitar una reproducción de la ficha, debe proporcionar al CDMH datos biograficos de la persona en la que está interesado, como por ejemplo, el lugar de nacimiento o residencia de la persona que busca, actividad, profesión, etc.  \n",
      "p:El CDMH unificará toda la documentación referenciada en las fichas en  un único envió y se remitirá sólo la documentación de archivo, esto es, no se enviarán las reproducciones de la Gaceta de Madrid ni similares, pero se indicará dónde puede obtenerla en línea.\n"
     ]
    }
   ],
   "source": [
    "import xml.etree.ElementTree as et \n",
    "import pandas as pd\n",
    "pd.set_option('max_columns', 100)\n",
    "import os\n",
    "local_file = '/Users/aidanair/Desktop/test_files/paresbusquedas_10074730.xml'\n",
    "xtree = et.parse(local_file)\n",
    "xroot = xtree.getroot()\n",
    "ending = local_file.split('_')[2].split('.')[0]\n",
    "url = f'http://pares.mcu.es/ParesBusquedas20/catalogo/description/{ending}'\n",
    "print(url)\n",
    "for c in xroot.findall(\".//\"):\n",
    "    ctr +=1\n",
    "    print(c.tag.split('}')[1] + \":\" + str(c.text))"
   ]
  },
  {
   "cell_type": "markdown",
   "metadata": {},
   "source": [
    "## We take the following variables\n",
    "\n",
    "<div class=\"alert alert-success\">\n",
    "\n",
    "- url \n",
    "- recordid\n",
    "- otherrecordid\n",
    "- titleproper\n",
    "- agencycode\n",
    "- agencyname\n",
    "- fromdate\n",
    "- todate\n",
    "\n",
    "</div>\n"
   ]
  },
  {
   "cell_type": "markdown",
   "metadata": {},
   "source": [
    "## We break up the 'recordid' into its parts, while keeping a copy of the full recordid"
   ]
  },
  {
   "cell_type": "markdown",
   "metadata": {},
   "source": [
    "<div class=\"alert alert-success\">\n",
    "\n",
    "- url\n",
    "- recordid\n",
    "- recordid_part_A\n",
    "- recordid_part_B\n",
    "- recordid_part_C\n",
    "- recordid_part_D\n",
    "- recordid_part_E\n",
    "- otherrecordid\n",
    "- titleproper\n",
    "- agencycode\n",
    "- agencyname\n",
    "- fromdate\n",
    "- todate\n",
    "\n",
    "</div>"
   ]
  },
  {
   "cell_type": "markdown",
   "metadata": {},
   "source": [
    "## We rename the name column and remove 'ficha de' "
   ]
  },
  {
   "cell_type": "markdown",
   "metadata": {},
   "source": [
    "## and we reorder the columns as follows"
   ]
  },
  {
   "cell_type": "markdown",
   "metadata": {},
   "source": [
    "<div class=\"alert alert-success\">\n",
    "\n",
    "- name (previously 'titleproper')\n",
    "- recordid_part_A\n",
    "- recordid_part_B\n",
    "- recordid_part_C\n",
    "- recordid_part_D\n",
    "- recordid_part_E\n",
    "- fromdate\n",
    "- todate\n",
    "- agencycode\n",
    "- agencyname\n",
    "- recordid\n",
    "- otherrecordid\n",
    "- url\n",
    "\n",
    "</div>"
   ]
  },
  {
   "cell_type": "code",
   "execution_count": 56,
   "metadata": {},
   "outputs": [],
   "source": [
    "selected = []\n",
    "list_of_files = os.listdir('/Users/aidanair/Desktop/test_files')\n",
    "file_ctr = 0\n",
    "path = '/Users/aidanair/Desktop/test_files/'\n",
    "for x in range (len(list_of_files)):\n",
    "    local_file = path + list_of_files[file_ctr]\n",
    "    xtree = et.parse(local_file)\n",
    "    xroot = xtree.getroot()\n",
    "    empty = {}\n",
    "    key_list = ['recordid', 'otherrecordid', 'titleproper', 'agencycode', 'agencyname', 'fromdate', 'todate', 'url']\n",
    "    for c in xroot.findall(\".//\"):\n",
    "        k = c.tag.split('}')[1]\n",
    "        v = c.text\n",
    "        if k in key_list:   \n",
    "            empty[k] = v\n",
    "    ending = local_file.split('_')[1].split('.')[0]\n",
    "    url = f'http://pares.mcu.es/ParesBusquedas20/catalogo/description/{ending}'\n",
    "    empty['url'] = url\n",
    "    selected.append(empty)\n",
    "    file_ctr += 1\n",
    "df = pd.DataFrame(selected)\n"
   ]
  },
  {
   "cell_type": "code",
   "execution_count": 57,
   "metadata": {},
   "outputs": [],
   "source": [
    "\n",
    "def remove_ficha(titleproper):    \n",
    "    splitup = titleproper.split('de ')\n",
    "    return splitup[1]\n",
    "df['name'] = df.titleproper.apply(remove_ficha)\n",
    "df = df[['name', 'otherrecordid', 'titleproper', 'agencycode', 'agencyname', 'fromdate', 'todate', 'url', 'recordid']]\n",
    "df[['recordid_a', 'recordid_b', 'recordid_x', 'recordid_c']] = df.recordid.str.split(\"/\", expand=True)\n",
    "df[['recordid_d', 'recordid_e', 'recordid_f', 'recordid_g']] = df.recordid.str.split(\",\", expand=True)\n",
    "df = df[['name', 'recordid_a', 'recordid_b', 'recordid_e', 'recordid_f', 'recordid_g', 'fromdate', 'todate', 'agencycode', 'agencyname', 'recordid', 'otherrecordid', 'url']]\n",
    "df.columns = ['name', 'recordid_a', 'recordid_b', 'recordid_c', 'recordid_d', 'recordid_e', 'fromdate', 'todate', 'agencycode', 'agencyname', 'recordid', 'otherrecordid', 'url']\n"
   ]
  },
  {
   "cell_type": "markdown",
   "metadata": {},
   "source": [
    "## which leaves us with the following dataset if you read just three files"
   ]
  },
  {
   "cell_type": "code",
   "execution_count": 58,
   "metadata": {},
   "outputs": [
    {
     "data": {
      "text/html": [
       "<div>\n",
       "<style scoped>\n",
       "    .dataframe tbody tr th:only-of-type {\n",
       "        vertical-align: middle;\n",
       "    }\n",
       "\n",
       "    .dataframe tbody tr th {\n",
       "        vertical-align: top;\n",
       "    }\n",
       "\n",
       "    .dataframe thead th {\n",
       "        text-align: right;\n",
       "    }\n",
       "</style>\n",
       "<table border=\"1\" class=\"dataframe\">\n",
       "  <thead>\n",
       "    <tr style=\"text-align: right;\">\n",
       "      <th></th>\n",
       "      <th>name</th>\n",
       "      <th>recordid_a</th>\n",
       "      <th>recordid_b</th>\n",
       "      <th>recordid_c</th>\n",
       "      <th>recordid_d</th>\n",
       "      <th>recordid_e</th>\n",
       "      <th>fromdate</th>\n",
       "      <th>todate</th>\n",
       "      <th>agencycode</th>\n",
       "      <th>agencyname</th>\n",
       "      <th>recordid</th>\n",
       "      <th>otherrecordid</th>\n",
       "      <th>url</th>\n",
       "    </tr>\n",
       "  </thead>\n",
       "  <tbody>\n",
       "    <tr>\n",
       "      <th>0</th>\n",
       "      <td>Aureliano Abad</td>\n",
       "      <td>ES.37274.CDMH</td>\n",
       "      <td>8.4.8.12</td>\n",
       "      <td>FICHERO</td>\n",
       "      <td>1</td>\n",
       "      <td>A0000607</td>\n",
       "      <td>1937</td>\n",
       "      <td>1977</td>\n",
       "      <td>ES-37008-CDMH</td>\n",
       "      <td>CDMH</td>\n",
       "      <td>ES.37274.CDMH/8.4.8.12//DNSD-SECRETARIA,FICHER...</td>\n",
       "      <td>ES-CDMH-37274-10074727</td>\n",
       "      <td>http://pares.mcu.es/ParesBusquedas20/catalogo/...</td>\n",
       "    </tr>\n",
       "    <tr>\n",
       "      <th>1</th>\n",
       "      <td>Celedonio Abad</td>\n",
       "      <td>ES.37274.CDMH</td>\n",
       "      <td>8.4.8.12</td>\n",
       "      <td>FICHERO</td>\n",
       "      <td>1</td>\n",
       "      <td>A0000628</td>\n",
       "      <td>1937</td>\n",
       "      <td>1977</td>\n",
       "      <td>ES-37008-CDMH</td>\n",
       "      <td>CDMH</td>\n",
       "      <td>ES.37274.CDMH/8.4.8.12//DNSD-SECRETARIA,FICHER...</td>\n",
       "      <td>ES-CDMH-37274-10074733</td>\n",
       "      <td>http://pares.mcu.es/ParesBusquedas20/catalogo/...</td>\n",
       "    </tr>\n",
       "    <tr>\n",
       "      <th>2</th>\n",
       "      <td>Carmen Abad</td>\n",
       "      <td>ES.37274.CDMH</td>\n",
       "      <td>8.4.8.12</td>\n",
       "      <td>FICHERO</td>\n",
       "      <td>1</td>\n",
       "      <td>A0000622</td>\n",
       "      <td>1937</td>\n",
       "      <td>1977</td>\n",
       "      <td>ES-37008-CDMH</td>\n",
       "      <td>CDMH</td>\n",
       "      <td>ES.37274.CDMH/8.4.8.12//DNSD-SECRETARIA,FICHER...</td>\n",
       "      <td>ES-CDMH-37274-10074730</td>\n",
       "      <td>http://pares.mcu.es/ParesBusquedas20/catalogo/...</td>\n",
       "    </tr>\n",
       "  </tbody>\n",
       "</table>\n",
       "</div>"
      ],
      "text/plain": [
       "              name     recordid_a recordid_b recordid_c recordid_d recordid_e  \\\n",
       "0  Aureliano Abad   ES.37274.CDMH   8.4.8.12    FICHERO          1   A0000607   \n",
       "1  Celedonio Abad   ES.37274.CDMH   8.4.8.12    FICHERO          1   A0000628   \n",
       "2     Carmen Abad   ES.37274.CDMH   8.4.8.12    FICHERO          1   A0000622   \n",
       "\n",
       "  fromdate todate     agencycode agencyname  \\\n",
       "0     1937   1977  ES-37008-CDMH       CDMH   \n",
       "1     1937   1977  ES-37008-CDMH       CDMH   \n",
       "2     1937   1977  ES-37008-CDMH       CDMH   \n",
       "\n",
       "                                            recordid           otherrecordid  \\\n",
       "0  ES.37274.CDMH/8.4.8.12//DNSD-SECRETARIA,FICHER...  ES-CDMH-37274-10074727   \n",
       "1  ES.37274.CDMH/8.4.8.12//DNSD-SECRETARIA,FICHER...  ES-CDMH-37274-10074733   \n",
       "2  ES.37274.CDMH/8.4.8.12//DNSD-SECRETARIA,FICHER...  ES-CDMH-37274-10074730   \n",
       "\n",
       "                                                 url  \n",
       "0  http://pares.mcu.es/ParesBusquedas20/catalogo/...  \n",
       "1  http://pares.mcu.es/ParesBusquedas20/catalogo/...  \n",
       "2  http://pares.mcu.es/ParesBusquedas20/catalogo/...  "
      ]
     },
     "execution_count": 58,
     "metadata": {},
     "output_type": "execute_result"
    }
   ],
   "source": [
    "df"
   ]
  },
  {
   "cell_type": "code",
   "execution_count": null,
   "metadata": {},
   "outputs": [],
   "source": []
  }
 ],
 "metadata": {
  "kernelspec": {
   "display_name": "Python 3",
   "language": "python",
   "name": "python3"
  },
  "language_info": {
   "codemirror_mode": {
    "name": "ipython",
    "version": 3
   },
   "file_extension": ".py",
   "mimetype": "text/x-python",
   "name": "python",
   "nbconvert_exporter": "python",
   "pygments_lexer": "ipython3",
   "version": "3.7.9"
  }
 },
 "nbformat": 4,
 "nbformat_minor": 2
}
