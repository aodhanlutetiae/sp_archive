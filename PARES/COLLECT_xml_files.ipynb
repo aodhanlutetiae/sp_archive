{
 "cells": [
  {
   "cell_type": "markdown",
   "metadata": {},
   "source": [
    "## This notebook gathers xml files from pares.mcu.edu"
   ]
  },
  {
   "cell_type": "code",
   "execution_count": null,
   "metadata": {},
   "outputs": [],
   "source": [
    "# imports\n",
    "\n",
    "import requests\n",
    "import time"
   ]
  },
  {
   "cell_type": "code",
   "execution_count": null,
   "metadata": {},
   "outputs": [],
   "source": [
    "# the first file has this number in its url. There are file numbers running to 12_654_135\n",
    "filenb = 10_074_724\n",
    "\n",
    "# run the code in a block of 100_000\n",
    "for x in range(100_000):\n",
    "    \n",
    "    # request the xml file\n",
    "    url = f'http://pares.mcu.es/ParesBusquedas20/catalogo/description/exportEAD/{filenb}'\n",
    "    req = requests.get(url)\n",
    "    \n",
    "    # if the request fails, print the status code and wait\n",
    "    if req.status_code != 200:\n",
    "        print(req.status_code)        \n",
    "        time.sleep(30)\n",
    "        filenb += 1\n",
    "        continue\n",
    "        \n",
    "    else:\n",
    "\n",
    "        # save xml locally\n",
    "        filename = 'paresbusquedas_' + str(filenb) + '.xml'    \n",
    "        with open(filename,'wb') as f: \n",
    "            f.write(req.content) \n",
    "\n",
    "        # wait 0.2 of a second\n",
    "        time.sleep(0.2)\n",
    "\n",
    "        # increase file nb counter\n",
    "        filenb += 1\n",
    "        \n",
    "        # print a count for every 5k in the count\n",
    "        if filenb % 5_000 == 0:\n",
    "        print (filenb)\n"
   ]
  }
 ],
 "metadata": {
  "kernelspec": {
   "display_name": "Python 3",
   "language": "python",
   "name": "python3"
  },
  "language_info": {
   "codemirror_mode": {
    "name": "ipython",
    "version": 3
   },
   "file_extension": ".py",
   "mimetype": "text/x-python",
   "name": "python",
   "nbconvert_exporter": "python",
   "pygments_lexer": "ipython3",
   "version": "3.7.9"
  }
 },
 "nbformat": 4,
 "nbformat_minor": 2
}
