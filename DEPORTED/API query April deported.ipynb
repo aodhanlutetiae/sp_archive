{
 "cells": [
  {
   "cell_type": "markdown",
   "metadata": {},
   "source": [
    "> This notebook gathers data from http://memoria.gencat.cat/ca/que-fem/banc-memoria-democratica/fons/deportats-catalans-i-espanyols-als-camps-nazis/ which holds 9_187 entries as of April 1, 2021.\n"
   ]
  },
  {
   "cell_type": "code",
   "execution_count": 30,
   "metadata": {},
   "outputs": [],
   "source": [
    "import requests\n",
    "import json"
   ]
  },
  {
   "cell_type": "code",
   "execution_count": 8,
   "metadata": {},
   "outputs": [
    {
     "data": {
      "text/plain": [
       "<Response [200]>"
      ]
     },
     "execution_count": 8,
     "metadata": {},
     "output_type": "execute_result"
    }
   ],
   "source": [
    "# this is the url that's called when we look up a single record\n",
    "\n",
    "url2 = 'https://dedalo4.bancmemorial.extranet.gencat.cat/dedalo/lib/dedalo/publication/server_api/v1/json/records?code=85df5s$4Kue%C3%B1wQw5O2p4J1G9&lang=lg-cat&table=deportats&count=true&section_id=1&resolve_portal=true&resolve_portals_custom={%22deportat%22:%22informant%22,%22deportat.biography%22:%22biografia%22,%22exercit_frances%22:%22deportats_treballs_exercit_frances%22,%22camps_francesos%22:%22deportats_camps_francesos%22,%22camps_concentracio%22:%22deportats_camps_concentracio%22,%22consultes_arxius%22:%22deportats_consultes_arxius%22,%22kommando_extern%22:%22deportats_kommando_extern%22,%22publicacions%22:%22referencia_bibliografica%22,%22publicacio_web%22:%22referencia_bibliografica%22,%22empresonament%22:%22deportats_empresonament%22,%22tren_salida%22:%22deportats_trens%22,%22organizacio_todt%22:%22deportats_todt%22,%22indemnitzacions%22:%22deportats_indemnitzacions%22}&ar_fields=section_id,data_mod,deportat,exercit_frances,camps_francesos,camps_concentracio,consultes_arxius,kommando_extern,publicacions,publicacio_web,situacio_deportat,data_situacio,ref_lloc_situacio,unitat_militar,frontera,destinacio,graduacio_militar,data_pas_per_frontera,resistencia,lloc_lluita,cut_lloc_lluita,lloc_lluita_original,lloc_detencio,ref_lloc_detencio,lloc_detencio_original,data_detencio,empresonament,tren_salida,organizacio_todt,ref_observacions,ref_repatriacio_franca,data_repatriacio_franca,data_tornarda_espanya,ref_lloc_residencia_posterior,ref_emigracio,indemnitzacions,obs_deportacio'\n",
    "req = requests.get(url2)\n",
    "req\n"
   ]
  },
  {
   "cell_type": "code",
   "execution_count": 10,
   "metadata": {},
   "outputs": [
    {
     "data": {
      "text/plain": [
       "<Response [200]>"
      ]
     },
     "execution_count": 10,
     "metadata": {},
     "output_type": "execute_result"
    }
   ],
   "source": [
    "# this is the above url, shortened to request the whole table as an API call\n",
    "\n",
    "url = 'https://dedalo4.bancmemorial.extranet.gencat.cat/dedalo/lib/dedalo/publication/server_api/v1/json/records?code=85df5s$4Kue%C3%B1wQw5O2p4J1G9&lang=lg-cat&table=deportats'\n",
    "\n",
    "req = requests.get(url)\n",
    "req\n"
   ]
  },
  {
   "cell_type": "code",
   "execution_count": 15,
   "metadata": {},
   "outputs": [],
   "source": [
    "# assign our data\n",
    "\n",
    "d = req.json()\n"
   ]
  },
  {
   "cell_type": "code",
   "execution_count": 27,
   "metadata": {},
   "outputs": [
    {
     "data": {
      "text/plain": [
       "9187"
      ]
     },
     "execution_count": 27,
     "metadata": {},
     "output_type": "execute_result"
    }
   ],
   "source": [
    "# the result key has a list as its value: this is a list of 9187 dictionaries\n",
    "\n",
    "len(d['result'])"
   ]
  },
  {
   "cell_type": "code",
   "execution_count": 28,
   "metadata": {},
   "outputs": [
    {
     "data": {
      "text/plain": [
       "{'table': 'deportats',\n",
       " 'section_id': '7959',\n",
       " 'lang': 'lg-cat',\n",
       " 'publicacio': 'si',\n",
       " 'destacat': 'no',\n",
       " 'fons': 'Deportats catalans i espanyols als camps nazis',\n",
       " 'deportat': '[\"20082\"]',\n",
       " 'data_pas_per_frontera': None,\n",
       " 'graduacio_militar': '',\n",
       " 'unitat_militar': '',\n",
       " 'frontera': None,\n",
       " 'destinacio': None,\n",
       " 'camps_francesos': None,\n",
       " 'exercit_frances': None,\n",
       " 'resistencia': '',\n",
       " 'lloc_lluita': None,\n",
       " 'lloc_lluita_original': '',\n",
       " 'data_detencio': None,\n",
       " 'lloc_detencio': None,\n",
       " 'lloc_detencio_original': '',\n",
       " 'empresonament': '[\"9756\",\"9757\"]',\n",
       " 'tren_salida': '[\"7712\"]',\n",
       " 'camps_concentracio': '[\"9138\"]',\n",
       " 'organizacio_todt': None,\n",
       " 'kommando_extern': '[\"7592\"]',\n",
       " 'situacio_deportat': 'Mort/a',\n",
       " 'situacio_deportat_dato': '[\"5\"]',\n",
       " 'data_situacio': '1942-01-15 00:00:00',\n",
       " 'lloc_situacio': '[\"on1_6149\"]',\n",
       " 'lloc_alliberacio_anterior': 'Gusen',\n",
       " 'obs_deportacio': '',\n",
       " 'repatriacio_franca': None,\n",
       " 'data_repatriacio_franca': None,\n",
       " 'data_tornarda_espanya': None,\n",
       " 'data_repatriacio_espanya': None,\n",
       " 'adreca_coneguda': '',\n",
       " 'lloc_residencia_posterior': None,\n",
       " 'emigracio': None,\n",
       " 'indemnitzacio': 'no',\n",
       " 'indemnitzacions': None,\n",
       " 'consultes_arxius': '[\"28057\",\"28058\",\"28059\",\"28060\"]',\n",
       " 'publicacions': '[\"19167\",\"19168\"]',\n",
       " 'publicacio_web': None,\n",
       " 'ref_nom': 'Pedro',\n",
       " 'ref_cognom': 'Trenado Serrano',\n",
       " 'ref_data_naixement': '1908-04-21 00:00:00',\n",
       " 'ref_data_mort': '1942-01-15 00:00:00',\n",
       " 'ref_lloc_naixement_dato': '[\"es1_4607\"]',\n",
       " 'ref_lloc_naixement_valor': 'Navalvillar de Pela, Badajoz, Extremadura, Espanya',\n",
       " 'cut_lloc_naixement_valor': 'Navalvillar de Pela',\n",
       " 'ref_lloc_defuncio_dato': '[\"on1_6149\"]',\n",
       " 'ref_lloc_defuncio_valor': 'Gusen, Camp de concentració de Mauthausen, Descriptors Camps de concentració nazis, Descriptors Camps de concentració, Descriptors centres de privació de llibertat',\n",
       " 'cut_lloc_defuncio_valor': 'Gusen, Camp de concentració de Mauthausen',\n",
       " 'ref_observacions': None,\n",
       " 'ref_lloc_lluita': None,\n",
       " 'cut_lloc_lluita': None,\n",
       " 'ref_lloc_detencio': None,\n",
       " 'ref_lloc_situacio': 'Gusen',\n",
       " 'ref_repatriacio_franca': None,\n",
       " 'ref_lloc_residencia_posterior': None,\n",
       " 'ref_emigracio': None,\n",
       " 'ref_camps_francesos_camp': None,\n",
       " 'ref_camps_francesos_data_entrada': None,\n",
       " 'ref_camps_francesos_data_sortida': None,\n",
       " 'ref_treballs_exercit_exercit_frances': None,\n",
       " 'ref_treballs_exercit_cte': None,\n",
       " 'ref_treballs_exercit_gte': None,\n",
       " 'ref_treballs_exercit_data': None,\n",
       " 'ref_treballs_exercit_localitzacio': None,\n",
       " 'ref_treballs_exercit_notes_localitzacio': None,\n",
       " 'ref_treballs_exercit_feina': None,\n",
       " 'ref_empresonament_num_matricula': '80192',\n",
       " 'ref_empresonament_data_entrada': '1941-04-05 00:00:00',\n",
       " 'ref_empresonament_data_sortida': '1941-04-05 00:00:00 | 1941-04-07 00:00:00',\n",
       " 'ref_empresonament_nom_preso': 'XVII-A | Gestapo',\n",
       " 'ref_empresonament_tipus_preso': 'Stalag | Presó',\n",
       " 'ref_empresonament_localitat': 'Kaisersteinbruch, Bruckneudorf, Politischer Bezirk Neusiedl am See, Burgenland, Austria | Viena, Inner city, Vienna, Viena, Austria',\n",
       " 'cut_empresonament_localitat': 'Kaisersteinbruch, Austria | Viena, Austria',\n",
       " 'ref_empresonament_localitat_anterior': 'Kaisersteinbruch\\xa0 | Wien',\n",
       " 'ref_trens_data_sortida': None,\n",
       " 'ref_trens_data_localitat': 'Kaisersteinbruch',\n",
       " 'ref_trens_data_nom_estacio': 'Kaisersteinbruch',\n",
       " 'ref_camps_concentracio_camp_dato': '[\"on1_2718\"]',\n",
       " 'ref_camps_concentracio_camp': 'Camp de concentració de Mauthausen',\n",
       " 'ref_camps_concentracio_data_entrada': '1941-04-07 00:00:00',\n",
       " 'ref_camps_concentracio_data_sortida': None,\n",
       " 'ref_camps_concentracio_num_matricula': '5025',\n",
       " 'ref_camps_concentracio_kommando': None,\n",
       " 'ref_camps_concentracio_data_entrada_kommando': None,\n",
       " 'ref_camps_concentracio_data_sortida_kommando': None,\n",
       " 'ref_todt_localitzacio': None,\n",
       " 'ref_todt_data': None,\n",
       " 'ref_komando_extern_camp': 'Gusen',\n",
       " 'ref_komando_extern_camp_dato': '[\"on1_6149\"]',\n",
       " 'ref_komando_extern_feines': None,\n",
       " 'ref_komando_extern_num_matricula': '13671',\n",
       " 'ref_komando_extern_data_entrada': '1941-10-20 00:00:00',\n",
       " 'ref_komando_extern_data_sortida': None,\n",
       " 'ref_consultes_arxius_entitat': 'Viena, Austria | Viena, Austria | Viena, Austria | Barcelona, Espanya',\n",
       " 'ref_consultes_arxius_entitat_name': \"Arxiu del Memorial de Mauthausen | Arxiu del Memorial de Mauthausen | Arxiu del Memorial de Mauthausen | Museu d'Història de Catalunya\",\n",
       " 'ref_consultes_arxius_descripcio': \"Llistat d'entrada | Llistat d'entrada a Gusen | Llistat de persones mortes a Mauthausen\",\n",
       " 'ref_informant_biografia_valor': None,\n",
       " 'ref_informant_biografia_dato': None,\n",
       " 'data_mod': '2020-03-02 13:33:41',\n",
       " 'frontera_rec': None,\n",
       " 'destinacio_rec': None,\n",
       " 'lloc_lluita_rec': None,\n",
       " 'lloc_detencio_rec': None,\n",
       " 'lloc_situacio_rec': '[\"on1_6149\",\"on1_2718\",\"on1_2705\",\"on1_2704\",\"on1_2703\"]',\n",
       " 'repatriacio_franca_rec': None,\n",
       " 'lloc_residencia_posterior_rec': None,\n",
       " 'emigracio_rec': None,\n",
       " 'ref_camps_francesos_camp_rec': None,\n",
       " 'ref_treballs_exercit_localitzacio_rec': None,\n",
       " 'ref_trens_data_localitat_rec': '[\"at1_2669\",\"at1_2666\",\"at1_2659\",\"at1_2143\",\"at1_1\"]',\n",
       " 'ref_todt_localitzacio_rec': None,\n",
       " 'ref_komando_extern_camp_rec': '[\"on1_6149\",\"on1_2718\",\"on1_2705\",\"on1_2704\",\"on1_2703\"]',\n",
       " 'fons_code': '[\"6\"]',\n",
       " 'ref_lloc_naixement_dato_full': '[\"es1_4607\",\"es1_8802\",\"es1_8859\",\"es1_1\"]',\n",
       " 'ref_genere': 'Home',\n",
       " 'ref_genere_dato': '1'}"
      ]
     },
     "execution_count": 28,
     "metadata": {},
     "output_type": "execute_result"
    }
   ],
   "source": [
    "# for example\n",
    "\n",
    "d['result'][7823]"
   ]
  },
  {
   "cell_type": "code",
   "execution_count": 32,
   "metadata": {},
   "outputs": [],
   "source": [
    "# save dict (including list of dicts), as json, locally (47MB)\n",
    "\n",
    "with open ('api_call_01042021.json', 'w') as f:\n",
    "    json.dump(d, f)"
   ]
  },
  {
   "cell_type": "markdown",
   "metadata": {},
   "source": [
    "## Reimport to work locally  "
   ]
  },
  {
   "cell_type": "code",
   "execution_count": 33,
   "metadata": {},
   "outputs": [],
   "source": [
    "## Reimport locally  \n",
    "\n",
    "with open('api_call_01042021.json') as json_data:\n",
    "    d = json.load(json_data)"
   ]
  },
  {
   "cell_type": "code",
   "execution_count": 34,
   "metadata": {},
   "outputs": [
    {
     "data": {
      "text/plain": [
       "4"
      ]
     },
     "execution_count": 34,
     "metadata": {},
     "output_type": "execute_result"
    }
   ],
   "source": [
    "# how many items in our data?\n",
    "\n",
    "len(d)"
   ]
  },
  {
   "cell_type": "code",
   "execution_count": 40,
   "metadata": {},
   "outputs": [
    {
     "data": {
      "text/plain": [
       "dict_keys(['result', 'msg', 'total', 'debug'])"
      ]
     },
     "execution_count": 40,
     "metadata": {},
     "output_type": "execute_result"
    }
   ],
   "source": [
    "# what are the keys in our data?\n",
    "\n",
    "d.keys()"
   ]
  },
  {
   "cell_type": "code",
   "execution_count": 36,
   "metadata": {},
   "outputs": [
    {
     "data": {
      "text/plain": [
       "9187"
      ]
     },
     "execution_count": 36,
     "metadata": {},
     "output_type": "execute_result"
    }
   ],
   "source": [
    "# the result list is the one we want\n",
    "\n",
    "len(d['result'])"
   ]
  },
  {
   "cell_type": "code",
   "execution_count": 37,
   "metadata": {},
   "outputs": [],
   "source": [
    "# assign to 'files'\n",
    "\n",
    "files = d['result']"
   ]
  },
  {
   "cell_type": "code",
   "execution_count": 44,
   "metadata": {},
   "outputs": [
    {
     "data": {
      "text/plain": [
       "{'table': 'deportats',\n",
       " 'section_id': '8159',\n",
       " 'lang': 'lg-cat',\n",
       " 'publicacio': 'si',\n",
       " 'destacat': 'no',\n",
       " 'fons': 'Deportats catalans i espanyols als camps nazis',\n",
       " 'deportat': '[\"20282\"]',\n",
       " 'data_pas_per_frontera': None,\n",
       " 'graduacio_militar': '',\n",
       " 'unitat_militar': '',\n",
       " 'frontera': None,\n",
       " 'destinacio': None,\n",
       " 'camps_francesos': None,\n",
       " 'exercit_frances': None,\n",
       " 'resistencia': '',\n",
       " 'lloc_lluita': None,\n",
       " 'lloc_lluita_original': '',\n",
       " 'data_detencio': None,\n",
       " 'lloc_detencio': None,\n",
       " 'lloc_detencio_original': '',\n",
       " 'empresonament': '[\"10023\"]',\n",
       " 'tren_salida': '[\"7911\"]',\n",
       " 'camps_concentracio': '[\"9348\"]',\n",
       " 'organizacio_todt': None,\n",
       " 'kommando_extern': '[\"7785\"]',\n",
       " 'situacio_deportat': 'Mort/a',\n",
       " 'situacio_deportat_dato': '[\"5\"]',\n",
       " 'data_situacio': '1941-12-07 00:00:00',\n",
       " 'lloc_situacio': '[\"on1_6149\"]',\n",
       " 'lloc_alliberacio_anterior': 'Gusen',\n",
       " 'obs_deportacio': '',\n",
       " 'repatriacio_franca': None,\n",
       " 'data_repatriacio_franca': None,\n",
       " 'data_tornarda_espanya': None,\n",
       " 'data_repatriacio_espanya': None,\n",
       " 'adreca_coneguda': '',\n",
       " 'lloc_residencia_posterior': None,\n",
       " 'emigracio': None,\n",
       " 'indemnitzacio': 'no',\n",
       " 'indemnitzacions': None,\n",
       " 'consultes_arxius': '[\"28920\",\"28921\",\"28922\",\"28923\"]',\n",
       " 'publicacions': '[\"19636\",\"19637\",\"19635\"]',\n",
       " 'publicacio_web': None,\n",
       " 'ref_nom': 'Francisco',\n",
       " 'ref_cognom': 'Suárez Cañete | Cánovas',\n",
       " 'ref_data_naixement': '1894-08-15 00:00:00',\n",
       " 'ref_data_mort': '1941-12-07 00:00:00',\n",
       " 'ref_lloc_naixement_dato': '[\"es1_43601\"]',\n",
       " 'ref_lloc_naixement_valor': 'Campanillas, Málaga, Málaga, Andalucía, Espanya',\n",
       " 'cut_lloc_naixement_valor': 'Campanillas, Málaga',\n",
       " 'ref_lloc_defuncio_dato': '[\"on1_6149\"]',\n",
       " 'ref_lloc_defuncio_valor': 'Gusen, Camp de concentració de Mauthausen, Descriptors Camps de concentració nazis, Descriptors Camps de concentració, Descriptors centres de privació de llibertat',\n",
       " 'cut_lloc_defuncio_valor': 'Gusen, Camp de concentració de Mauthausen',\n",
       " 'ref_observacions': None,\n",
       " 'ref_lloc_lluita': None,\n",
       " 'cut_lloc_lluita': None,\n",
       " 'ref_lloc_detencio': None,\n",
       " 'ref_lloc_situacio': 'Gusen',\n",
       " 'ref_repatriacio_franca': None,\n",
       " 'ref_lloc_residencia_posterior': None,\n",
       " 'ref_emigracio': None,\n",
       " 'ref_camps_francesos_camp': None,\n",
       " 'ref_camps_francesos_data_entrada': None,\n",
       " 'ref_camps_francesos_data_sortida': None,\n",
       " 'ref_treballs_exercit_exercit_frances': None,\n",
       " 'ref_treballs_exercit_cte': None,\n",
       " 'ref_treballs_exercit_gte': None,\n",
       " 'ref_treballs_exercit_data': None,\n",
       " 'ref_treballs_exercit_localitzacio': None,\n",
       " 'ref_treballs_exercit_notes_localitzacio': None,\n",
       " 'ref_treballs_exercit_feina': None,\n",
       " 'ref_empresonament_num_matricula': '2894',\n",
       " 'ref_empresonament_data_entrada': None,\n",
       " 'ref_empresonament_data_sortida': '1940-12-11 00:00:00',\n",
       " 'ref_empresonament_nom_preso': 'V-D',\n",
       " 'ref_empresonament_tipus_preso': 'Stalag',\n",
       " 'ref_empresonament_localitat': 'Strasbourg, Strasbourg-Ville, Bas-Rhin, Alsace, França',\n",
       " 'cut_empresonament_localitat': 'Strasbourg, França',\n",
       " 'ref_empresonament_localitat_anterior': 'Strasbourg',\n",
       " 'ref_trens_data_sortida': None,\n",
       " 'ref_trens_data_localitat': 'Strasbourg',\n",
       " 'ref_trens_data_nom_estacio': 'Strasbourg',\n",
       " 'ref_camps_concentracio_camp_dato': '[\"on1_2718\"]',\n",
       " 'ref_camps_concentracio_camp': 'Camp de concentració de Mauthausen',\n",
       " 'ref_camps_concentracio_data_entrada': '1940-12-13 00:00:00',\n",
       " 'ref_camps_concentracio_data_sortida': None,\n",
       " 'ref_camps_concentracio_num_matricula': '5307',\n",
       " 'ref_camps_concentracio_kommando': None,\n",
       " 'ref_camps_concentracio_data_entrada_kommando': None,\n",
       " 'ref_camps_concentracio_data_sortida_kommando': None,\n",
       " 'ref_todt_localitzacio': None,\n",
       " 'ref_todt_data': None,\n",
       " 'ref_komando_extern_camp': 'Gusen',\n",
       " 'ref_komando_extern_camp_dato': '[\"on1_6149\"]',\n",
       " 'ref_komando_extern_feines': None,\n",
       " 'ref_komando_extern_num_matricula': '11465',\n",
       " 'ref_komando_extern_data_entrada': '1941-03-29 00:00:00',\n",
       " 'ref_komando_extern_data_sortida': None,\n",
       " 'ref_consultes_arxius_entitat': 'Viena, Austria | Viena, Austria | Viena, Austria | Barcelona, Espanya',\n",
       " 'ref_consultes_arxius_entitat_name': \"Arxiu del Memorial de Mauthausen | Arxiu del Memorial de Mauthausen | Arxiu del Memorial de Mauthausen | Museu d'Història de Catalunya\",\n",
       " 'ref_consultes_arxius_descripcio': \"Llistat d'entrada | Llistat d'entrada a Gusen | Llistat de persones mortes a Mauthausen\",\n",
       " 'ref_informant_biografia_valor': None,\n",
       " 'ref_informant_biografia_dato': None,\n",
       " 'data_mod': '2020-03-02 13:33:42',\n",
       " 'frontera_rec': None,\n",
       " 'destinacio_rec': None,\n",
       " 'lloc_lluita_rec': None,\n",
       " 'lloc_detencio_rec': None,\n",
       " 'lloc_situacio_rec': '[\"on1_6149\",\"on1_2718\",\"on1_2705\",\"on1_2704\",\"on1_2703\"]',\n",
       " 'repatriacio_franca_rec': None,\n",
       " 'lloc_residencia_posterior_rec': None,\n",
       " 'emigracio_rec': None,\n",
       " 'ref_camps_francesos_camp_rec': None,\n",
       " 'ref_treballs_exercit_localitzacio_rec': None,\n",
       " 'ref_trens_data_localitat_rec': '[\"fr1_27964\",\"fr1_36928\",\"fr1_37094\",\"fr1_37140\",\"fr1_1\"]',\n",
       " 'ref_todt_localitzacio_rec': None,\n",
       " 'ref_komando_extern_camp_rec': '[\"on1_6149\",\"on1_2718\",\"on1_2705\",\"on1_2704\",\"on1_2703\"]',\n",
       " 'fons_code': '[\"6\"]',\n",
       " 'ref_lloc_naixement_dato_full': '[\"es1_43601\",\"es1_3934\",\"es1_8825\",\"es1_8849\",\"es1_1\"]',\n",
       " 'ref_genere': 'Home',\n",
       " 'ref_genere_dato': '1'}"
      ]
     },
     "execution_count": 44,
     "metadata": {},
     "output_type": "execute_result"
    }
   ],
   "source": [
    "# look at one\n",
    "\n",
    "files[8023]"
   ]
  },
  {
   "cell_type": "code",
   "execution_count": null,
   "metadata": {},
   "outputs": [],
   "source": []
  }
 ],
 "metadata": {
  "kernelspec": {
   "display_name": "Python 3",
   "language": "python",
   "name": "python3"
  },
  "language_info": {
   "codemirror_mode": {
    "name": "ipython",
    "version": 3
   },
   "file_extension": ".py",
   "mimetype": "text/x-python",
   "name": "python",
   "nbconvert_exporter": "python",
   "pygments_lexer": "ipython3",
   "version": "3.7.9"
  }
 },
 "nbformat": 4,
 "nbformat_minor": 2
}
